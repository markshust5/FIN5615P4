{
 "cells": [
  {
   "cell_type": "markdown",
   "metadata": {
    "deletable": false,
    "editable": false
   },
   "source": [
    "<h2>FIN5615 Project #4\n",
    "    <p class=\"text-primary\">S&P 100 Returns</p>\n",
    "</h2>\n",
    "\n",
    "<div class = \"alert alert-block alert-danger\">\n",
    "    <b>Due Date</b>: October 26th, 2020 11:59PM EST\n",
    "</div>"
   ]
  },
  {
   "cell_type": "markdown",
   "metadata": {
    "deletable": false,
    "editable": false
   },
   "source": [
    "<div class = \"panel panel-success\">\n",
    "    <div class = \"panel-heading\"> \n",
    "    <span style=\"color:black\"><b>Project Introduction</b>\n",
    "    </div>\n",
    "    <div class = \"panel-body\"> \n",
    "    In this project we will examine the historical return performance of the 100 component stocks that make up the S&P 100 index. We will also explore their correlations and identify pairs of stocks that are most highly correlated and relatively uncorrelated.\n",
    "    </div>\n",
    "</div>\n",
    "\n",
    "<div class = \"panel panel-success\">\n",
    "    <div class = \"panel-heading\"> \n",
    "    <span style=\"color:black\"><b>Data</b>\n",
    "    </div>\n",
    "    <div class = \"panel-body\"> \n",
    "    The data for this project includes the historical daily prices, from the stock's inception to June 30th 2020, for each of the 100 component stocks in the S&P 100 index. In the folder \"SP100\", you will find one CSV file for each of the component stocks.\n",
    "    <br><br>For this project, we will be focusing only on the historical closing prices listed under column \"Adj Close\" (adjusted for stock splits). The ticker symbols and company names of each of the stocks are included in a separate file \"_SP100.csv\", which you can also find the folder \"SP100\".\n",
    "    <br><br>Download and place the entire \"SP100\" folder in the \"Data\" folder of your working directory. Remember to read in the datasets starting with the relative file path: <code>'../../Data/SP100'</code>.\n",
    "    </div>\n",
    "</div>\n",
    "\n",
    "<div class = \"panel panel-info\">\n",
    "    <div class = \"panel-heading\"> \n",
    "    <span style=\"color:black\"><b>Instructions</b>\n",
    "    </div>\n",
    "    <div class = \"panel-body\"> \n",
    "    Please code you solutions directly in this Notebook under each task in the cells provided below. Include all code used to produce your results, and support your answers with textual explanations if neccessary. You may feel free to add additional Code and/or Markdown cells as needed. Code must be written using <b>Python 3</b>.\n",
    "    <br><br>Please order the cells in your Notebook in the order in which they are intended to run! It is expected that your Notebook is able to run in sequence from start to finish without any errors (before submitting check by: <code>Kernel > Restart & Run All</code>).\n",
    "    <br><br>Once ready, please submit your assignment as an <b>.ipynb file</b> (<code>File > Download as > Notebook</code>). You must name your files in the following format: <b><code>FIN5615_Assignmnet_1_Richard_Lee_tuc12345.ipynb</code></b>.\n",
    "    </div>\n",
    "</div>\n",
    "\n",
    "---\n",
    "<div class = \"alert alert-block alert-warning\">\n",
    "    <b>Note</b>: Add any additional libraries that you plan on using to the import statements in the code block below.\n",
    "</div>"
   ]
  },
  {
   "cell_type": "code",
   "execution_count": 1,
   "metadata": {},
   "outputs": [],
   "source": [
    "import numpy as np\n",
    "import pandas as pd\n",
    "import matplotlib.pyplot as plt"
   ]
  },
  {
   "cell_type": "markdown",
   "metadata": {
    "deletable": false,
    "editable": false
   },
   "source": [
    "<div class = \"panel panel-primary\">\n",
    "    <div class = \"panel-heading\"> \n",
    "    <span style=\"color:white\"><b>Task 1</b>\n",
    "    </div>\n",
    "    <div class = \"panel-body\"> \n",
    "    Read in each of the CSV files for the S&P 100 stocks in a dictionary for us to easily reference and manipulate the data.\n",
    "    <br>\n",
    "    <ul>\n",
    "        <li>Start by reading in the companies and their stock ticker symbols into a dataframe called <code>sp100</code>, with the \"Ticker\" column as the index.</li>\n",
    "        <li>Next, create a dictionary called <code>stock_frames</code>. This will serve as a container to store all the historical price data for the component stocks.</li>\n",
    "        <li>Read in the historical price data for all stocks in <code>sp100</code> as dataframes and store them in <code>stock_frames</code> with the stock's ticker as the key. </li>\n",
    "        <li>For this project, we will only need the columns \"Date\" and \"Adj Close\" so limit to just these two columns when reading in the CSV file, with the \"Date\" column as the dataframe's index. </li>\n",
    "    </ul>\n",
    "    <p style=\"text-align:right;\">[10pts]</p>\n",
    "    </div>\n",
    "</div>\n",
    "\n",
    "<div class = \"alert alert-block alert-info\">\n",
    "    <b>Hint</b>: When reading in the CSV files, you may want to use a loop to iterate the index of *sp100* that was created earlier.\n",
    "</div>"
   ]
  },
  {
   "cell_type": "code",
   "execution_count": 2,
   "metadata": {},
   "outputs": [],
   "source": [
    "path=\"/Users/mark/Desktop/SP100\"\n",
    "sp100 = pd.read_csv(f'{path}/_SP100.csv')"
   ]
  },
  {
   "cell_type": "code",
   "execution_count": 3,
   "metadata": {},
   "outputs": [
    {
     "data": {
      "text/plain": [
       "0     AAPL\n",
       "1     ABBV\n",
       "2      ABT\n",
       "3      ACN\n",
       "4     ADBE\n",
       "      ... \n",
       "94      VZ\n",
       "95     WBA\n",
       "96     WFC\n",
       "97     WMT\n",
       "98     XOM\n",
       "Name: Ticker, Length: 99, dtype: object"
      ]
     },
     "execution_count": 3,
     "metadata": {},
     "output_type": "execute_result"
    }
   ],
   "source": [
    "sp100['Ticker']"
   ]
  },
  {
   "cell_type": "code",
   "execution_count": 4,
   "metadata": {},
   "outputs": [],
   "source": [
    "stock_frames = {}\n",
    "for ticker in sp100.loc[:,'Ticker'] :\n",
    "    stock_frames[ticker] = pd.read_csv(f'{path}/{ticker}.csv', usecols =['Date','Adj Close'], index_col = ['Date'])"
   ]
  },
  {
   "cell_type": "code",
   "execution_count": 5,
   "metadata": {},
   "outputs": [
    {
     "data": {
      "text/html": [
       "<div>\n",
       "<style scoped>\n",
       "    .dataframe tbody tr th:only-of-type {\n",
       "        vertical-align: middle;\n",
       "    }\n",
       "\n",
       "    .dataframe tbody tr th {\n",
       "        vertical-align: top;\n",
       "    }\n",
       "\n",
       "    .dataframe thead th {\n",
       "        text-align: right;\n",
       "    }\n",
       "</style>\n",
       "<table border=\"1\" class=\"dataframe\">\n",
       "  <thead>\n",
       "    <tr style=\"text-align: right;\">\n",
       "      <th></th>\n",
       "      <th>Adj Close</th>\n",
       "    </tr>\n",
       "    <tr>\n",
       "      <th>Date</th>\n",
       "      <th></th>\n",
       "    </tr>\n",
       "  </thead>\n",
       "  <tbody>\n",
       "    <tr>\n",
       "      <td>19831121</td>\n",
       "      <td>0.212488</td>\n",
       "    </tr>\n",
       "    <tr>\n",
       "      <td>19831122</td>\n",
       "      <td>0.210764</td>\n",
       "    </tr>\n",
       "    <tr>\n",
       "      <td>19831123</td>\n",
       "      <td>0.209902</td>\n",
       "    </tr>\n",
       "    <tr>\n",
       "      <td>19831125</td>\n",
       "      <td>0.210333</td>\n",
       "    </tr>\n",
       "    <tr>\n",
       "      <td>19831128</td>\n",
       "      <td>0.208178</td>\n",
       "    </tr>\n",
       "    <tr>\n",
       "      <td>...</td>\n",
       "      <td>...</td>\n",
       "    </tr>\n",
       "    <tr>\n",
       "      <td>20200624</td>\n",
       "      <td>29.420000</td>\n",
       "    </tr>\n",
       "    <tr>\n",
       "      <td>20200625</td>\n",
       "      <td>29.719999</td>\n",
       "    </tr>\n",
       "    <tr>\n",
       "      <td>20200626</td>\n",
       "      <td>29.080000</td>\n",
       "    </tr>\n",
       "    <tr>\n",
       "      <td>20200629</td>\n",
       "      <td>29.910000</td>\n",
       "    </tr>\n",
       "    <tr>\n",
       "      <td>20200630</td>\n",
       "      <td>30.230000</td>\n",
       "    </tr>\n",
       "  </tbody>\n",
       "</table>\n",
       "<p>9228 rows × 1 columns</p>\n",
       "</div>"
      ],
      "text/plain": [
       "          Adj Close\n",
       "Date               \n",
       "19831121   0.212488\n",
       "19831122   0.210764\n",
       "19831123   0.209902\n",
       "19831125   0.210333\n",
       "19831128   0.208178\n",
       "...             ...\n",
       "20200624  29.420000\n",
       "20200625  29.719999\n",
       "20200626  29.080000\n",
       "20200629  29.910000\n",
       "20200630  30.230000\n",
       "\n",
       "[9228 rows x 1 columns]"
      ]
     },
     "execution_count": 5,
     "metadata": {},
     "output_type": "execute_result"
    }
   ],
   "source": [
    "stock_frames['T']"
   ]
  },
  {
   "cell_type": "markdown",
   "metadata": {
    "deletable": false,
    "editable": false
   },
   "source": [
    "<div class = \"panel panel-primary\">\n",
    "    <div class = \"panel-heading\"> \n",
    "    <span style=\"color:white\"><b>Task 2</b>\n",
    "    </div>\n",
    "    <div class = \"panel-body\"> \n",
    "    An issue with our data is that component stocks of the S&P 100 do not all have the same number of historical observations.\n",
    "    <br><br>To help remedy this, iterate through the <code>stock_frames</code> dictionary and for each dataframe, limit the historical price observations to the period ranging from 7/6/2015 to 6/30/2020, which spans 1257 trading days. \n",
    "    <p style=\"text-align:right;\">[5pts]</p>\n",
    "    </div>\n",
    "</div>"
   ]
  },
  {
   "cell_type": "code",
   "execution_count": 6,
   "metadata": {},
   "outputs": [],
   "source": [
    "stock_prices = pd.concat(stock_frames.values(), axis = 1, join = 'inner')\n",
    "stock_prices.columns = sp100['Ticker'] #setting all the column names to ticker symbols"
   ]
  },
  {
   "cell_type": "code",
   "execution_count": 7,
   "metadata": {},
   "outputs": [
    {
     "data": {
      "text/html": [
       "<div>\n",
       "<style scoped>\n",
       "    .dataframe tbody tr th:only-of-type {\n",
       "        vertical-align: middle;\n",
       "    }\n",
       "\n",
       "    .dataframe tbody tr th {\n",
       "        vertical-align: top;\n",
       "    }\n",
       "\n",
       "    .dataframe thead th {\n",
       "        text-align: right;\n",
       "    }\n",
       "</style>\n",
       "<table border=\"1\" class=\"dataframe\">\n",
       "  <thead>\n",
       "    <tr style=\"text-align: right;\">\n",
       "      <th>Ticker</th>\n",
       "      <th>AAPL</th>\n",
       "      <th>ABBV</th>\n",
       "      <th>ABT</th>\n",
       "      <th>ACN</th>\n",
       "      <th>ADBE</th>\n",
       "      <th>AIG</th>\n",
       "      <th>ALL</th>\n",
       "      <th>AMGN</th>\n",
       "      <th>AMT</th>\n",
       "      <th>AMZN</th>\n",
       "      <th>...</th>\n",
       "      <th>UNH</th>\n",
       "      <th>UNP</th>\n",
       "      <th>UPS</th>\n",
       "      <th>USB</th>\n",
       "      <th>V</th>\n",
       "      <th>VZ</th>\n",
       "      <th>WBA</th>\n",
       "      <th>WFC</th>\n",
       "      <th>WMT</th>\n",
       "      <th>XOM</th>\n",
       "    </tr>\n",
       "    <tr>\n",
       "      <th>Date</th>\n",
       "      <th></th>\n",
       "      <th></th>\n",
       "      <th></th>\n",
       "      <th></th>\n",
       "      <th></th>\n",
       "      <th></th>\n",
       "      <th></th>\n",
       "      <th></th>\n",
       "      <th></th>\n",
       "      <th></th>\n",
       "      <th></th>\n",
       "      <th></th>\n",
       "      <th></th>\n",
       "      <th></th>\n",
       "      <th></th>\n",
       "      <th></th>\n",
       "      <th></th>\n",
       "      <th></th>\n",
       "      <th></th>\n",
       "      <th></th>\n",
       "      <th></th>\n",
       "    </tr>\n",
       "  </thead>\n",
       "  <tbody>\n",
       "    <tr>\n",
       "      <td>20150706</td>\n",
       "      <td>116.122704</td>\n",
       "      <td>54.396431</td>\n",
       "      <td>44.941250</td>\n",
       "      <td>89.012009</td>\n",
       "      <td>80.500000</td>\n",
       "      <td>54.500534</td>\n",
       "      <td>58.867424</td>\n",
       "      <td>134.846283</td>\n",
       "      <td>86.097084</td>\n",
       "      <td>436.040009</td>\n",
       "      <td>...</td>\n",
       "      <td>112.806862</td>\n",
       "      <td>85.749390</td>\n",
       "      <td>82.283913</td>\n",
       "      <td>37.943161</td>\n",
       "      <td>65.693474</td>\n",
       "      <td>37.562855</td>\n",
       "      <td>75.650414</td>\n",
       "      <td>47.528847</td>\n",
       "      <td>63.890312</td>\n",
       "      <td>66.836525</td>\n",
       "    </tr>\n",
       "    <tr>\n",
       "      <td>20150707</td>\n",
       "      <td>115.837006</td>\n",
       "      <td>54.667538</td>\n",
       "      <td>45.365906</td>\n",
       "      <td>90.237366</td>\n",
       "      <td>80.589996</td>\n",
       "      <td>54.817768</td>\n",
       "      <td>59.712139</td>\n",
       "      <td>135.623062</td>\n",
       "      <td>86.686302</td>\n",
       "      <td>436.720001</td>\n",
       "      <td>...</td>\n",
       "      <td>111.458641</td>\n",
       "      <td>87.085892</td>\n",
       "      <td>82.998978</td>\n",
       "      <td>37.830032</td>\n",
       "      <td>65.355919</td>\n",
       "      <td>37.730549</td>\n",
       "      <td>77.298264</td>\n",
       "      <td>47.368855</td>\n",
       "      <td>65.000229</td>\n",
       "      <td>67.111877</td>\n",
       "    </tr>\n",
       "    <tr>\n",
       "      <td>20150708</td>\n",
       "      <td>112.961594</td>\n",
       "      <td>53.949913</td>\n",
       "      <td>44.498520</td>\n",
       "      <td>89.268074</td>\n",
       "      <td>79.989998</td>\n",
       "      <td>53.892525</td>\n",
       "      <td>58.967331</td>\n",
       "      <td>132.934891</td>\n",
       "      <td>85.643852</td>\n",
       "      <td>429.700012</td>\n",
       "      <td>...</td>\n",
       "      <td>109.685631</td>\n",
       "      <td>85.401917</td>\n",
       "      <td>81.287910</td>\n",
       "      <td>37.133812</td>\n",
       "      <td>64.352989</td>\n",
       "      <td>37.633602</td>\n",
       "      <td>76.111099</td>\n",
       "      <td>46.526745</td>\n",
       "      <td>64.357178</td>\n",
       "      <td>66.383011</td>\n",
       "    </tr>\n",
       "    <tr>\n",
       "      <td>20150709</td>\n",
       "      <td>110.657570</td>\n",
       "      <td>54.197105</td>\n",
       "      <td>44.444317</td>\n",
       "      <td>89.386940</td>\n",
       "      <td>80.470001</td>\n",
       "      <td>54.421230</td>\n",
       "      <td>59.412411</td>\n",
       "      <td>132.062073</td>\n",
       "      <td>85.562263</td>\n",
       "      <td>434.390015</td>\n",
       "      <td>...</td>\n",
       "      <td>110.202759</td>\n",
       "      <td>85.758308</td>\n",
       "      <td>81.509254</td>\n",
       "      <td>37.386200</td>\n",
       "      <td>64.661598</td>\n",
       "      <td>37.375053</td>\n",
       "      <td>79.335915</td>\n",
       "      <td>46.737270</td>\n",
       "      <td>64.110527</td>\n",
       "      <td>66.083359</td>\n",
       "    </tr>\n",
       "    <tr>\n",
       "      <td>20150710</td>\n",
       "      <td>113.615921</td>\n",
       "      <td>55.201782</td>\n",
       "      <td>45.112915</td>\n",
       "      <td>90.328812</td>\n",
       "      <td>80.589996</td>\n",
       "      <td>55.179031</td>\n",
       "      <td>60.120884</td>\n",
       "      <td>134.497192</td>\n",
       "      <td>86.495934</td>\n",
       "      <td>443.510010</td>\n",
       "      <td>...</td>\n",
       "      <td>112.797638</td>\n",
       "      <td>87.157173</td>\n",
       "      <td>82.539276</td>\n",
       "      <td>37.803921</td>\n",
       "      <td>65.982765</td>\n",
       "      <td>37.972931</td>\n",
       "      <td>82.489861</td>\n",
       "      <td>47.225693</td>\n",
       "      <td>64.410027</td>\n",
       "      <td>66.585472</td>\n",
       "    </tr>\n",
       "    <tr>\n",
       "      <td>...</td>\n",
       "      <td>...</td>\n",
       "      <td>...</td>\n",
       "      <td>...</td>\n",
       "      <td>...</td>\n",
       "      <td>...</td>\n",
       "      <td>...</td>\n",
       "      <td>...</td>\n",
       "      <td>...</td>\n",
       "      <td>...</td>\n",
       "      <td>...</td>\n",
       "      <td>...</td>\n",
       "      <td>...</td>\n",
       "      <td>...</td>\n",
       "      <td>...</td>\n",
       "      <td>...</td>\n",
       "      <td>...</td>\n",
       "      <td>...</td>\n",
       "      <td>...</td>\n",
       "      <td>...</td>\n",
       "      <td>...</td>\n",
       "      <td>...</td>\n",
       "    </tr>\n",
       "    <tr>\n",
       "      <td>20200624</td>\n",
       "      <td>360.059998</td>\n",
       "      <td>95.139999</td>\n",
       "      <td>87.300003</td>\n",
       "      <td>201.839996</td>\n",
       "      <td>431.679993</td>\n",
       "      <td>30.299999</td>\n",
       "      <td>92.949997</td>\n",
       "      <td>232.509995</td>\n",
       "      <td>254.179993</td>\n",
       "      <td>2734.399902</td>\n",
       "      <td>...</td>\n",
       "      <td>289.179993</td>\n",
       "      <td>165.550003</td>\n",
       "      <td>109.500000</td>\n",
       "      <td>36.440567</td>\n",
       "      <td>191.410004</td>\n",
       "      <td>53.930000</td>\n",
       "      <td>41.169998</td>\n",
       "      <td>26.120001</td>\n",
       "      <td>120.300003</td>\n",
       "      <td>44.500000</td>\n",
       "    </tr>\n",
       "    <tr>\n",
       "      <td>20200625</td>\n",
       "      <td>364.839996</td>\n",
       "      <td>96.989998</td>\n",
       "      <td>89.620003</td>\n",
       "      <td>217.320007</td>\n",
       "      <td>436.950012</td>\n",
       "      <td>31.260000</td>\n",
       "      <td>95.830002</td>\n",
       "      <td>235.110001</td>\n",
       "      <td>254.360001</td>\n",
       "      <td>2754.580078</td>\n",
       "      <td>...</td>\n",
       "      <td>296.220001</td>\n",
       "      <td>167.020004</td>\n",
       "      <td>110.519997</td>\n",
       "      <td>37.606823</td>\n",
       "      <td>193.979996</td>\n",
       "      <td>54.279999</td>\n",
       "      <td>42.040001</td>\n",
       "      <td>27.370001</td>\n",
       "      <td>119.709999</td>\n",
       "      <td>45.169998</td>\n",
       "    </tr>\n",
       "    <tr>\n",
       "      <td>20200626</td>\n",
       "      <td>353.630005</td>\n",
       "      <td>96.129997</td>\n",
       "      <td>88.709999</td>\n",
       "      <td>212.470001</td>\n",
       "      <td>426.920013</td>\n",
       "      <td>29.709999</td>\n",
       "      <td>94.580002</td>\n",
       "      <td>232.839996</td>\n",
       "      <td>246.479996</td>\n",
       "      <td>2692.870117</td>\n",
       "      <td>...</td>\n",
       "      <td>286.880005</td>\n",
       "      <td>162.639999</td>\n",
       "      <td>107.320000</td>\n",
       "      <td>35.640003</td>\n",
       "      <td>189.270004</td>\n",
       "      <td>53.160000</td>\n",
       "      <td>41.169998</td>\n",
       "      <td>25.340000</td>\n",
       "      <td>118.320000</td>\n",
       "      <td>43.619999</td>\n",
       "    </tr>\n",
       "    <tr>\n",
       "      <td>20200629</td>\n",
       "      <td>361.779999</td>\n",
       "      <td>96.440002</td>\n",
       "      <td>89.010002</td>\n",
       "      <td>212.720001</td>\n",
       "      <td>424.200012</td>\n",
       "      <td>30.680000</td>\n",
       "      <td>95.440002</td>\n",
       "      <td>231.559998</td>\n",
       "      <td>253.800003</td>\n",
       "      <td>2680.379883</td>\n",
       "      <td>...</td>\n",
       "      <td>289.760010</td>\n",
       "      <td>165.509995</td>\n",
       "      <td>109.480003</td>\n",
       "      <td>36.349998</td>\n",
       "      <td>191.380005</td>\n",
       "      <td>54.689999</td>\n",
       "      <td>42.320000</td>\n",
       "      <td>25.700001</td>\n",
       "      <td>119.059998</td>\n",
       "      <td>44.320000</td>\n",
       "    </tr>\n",
       "    <tr>\n",
       "      <td>20200630</td>\n",
       "      <td>364.799988</td>\n",
       "      <td>98.180000</td>\n",
       "      <td>91.430000</td>\n",
       "      <td>214.720001</td>\n",
       "      <td>435.309998</td>\n",
       "      <td>31.180000</td>\n",
       "      <td>96.989998</td>\n",
       "      <td>235.860001</td>\n",
       "      <td>258.540009</td>\n",
       "      <td>2758.820068</td>\n",
       "      <td>...</td>\n",
       "      <td>294.950012</td>\n",
       "      <td>169.070007</td>\n",
       "      <td>111.180000</td>\n",
       "      <td>36.820000</td>\n",
       "      <td>193.169998</td>\n",
       "      <td>55.130001</td>\n",
       "      <td>42.389999</td>\n",
       "      <td>25.600000</td>\n",
       "      <td>119.779999</td>\n",
       "      <td>44.720001</td>\n",
       "    </tr>\n",
       "  </tbody>\n",
       "</table>\n",
       "<p>1257 rows × 99 columns</p>\n",
       "</div>"
      ],
      "text/plain": [
       "Ticker          AAPL       ABBV        ABT         ACN        ADBE        AIG  \\\n",
       "Date                                                                            \n",
       "20150706  116.122704  54.396431  44.941250   89.012009   80.500000  54.500534   \n",
       "20150707  115.837006  54.667538  45.365906   90.237366   80.589996  54.817768   \n",
       "20150708  112.961594  53.949913  44.498520   89.268074   79.989998  53.892525   \n",
       "20150709  110.657570  54.197105  44.444317   89.386940   80.470001  54.421230   \n",
       "20150710  113.615921  55.201782  45.112915   90.328812   80.589996  55.179031   \n",
       "...              ...        ...        ...         ...         ...        ...   \n",
       "20200624  360.059998  95.139999  87.300003  201.839996  431.679993  30.299999   \n",
       "20200625  364.839996  96.989998  89.620003  217.320007  436.950012  31.260000   \n",
       "20200626  353.630005  96.129997  88.709999  212.470001  426.920013  29.709999   \n",
       "20200629  361.779999  96.440002  89.010002  212.720001  424.200012  30.680000   \n",
       "20200630  364.799988  98.180000  91.430000  214.720001  435.309998  31.180000   \n",
       "\n",
       "Ticker          ALL        AMGN         AMT         AMZN  ...         UNH  \\\n",
       "Date                                                      ...               \n",
       "20150706  58.867424  134.846283   86.097084   436.040009  ...  112.806862   \n",
       "20150707  59.712139  135.623062   86.686302   436.720001  ...  111.458641   \n",
       "20150708  58.967331  132.934891   85.643852   429.700012  ...  109.685631   \n",
       "20150709  59.412411  132.062073   85.562263   434.390015  ...  110.202759   \n",
       "20150710  60.120884  134.497192   86.495934   443.510010  ...  112.797638   \n",
       "...             ...         ...         ...          ...  ...         ...   \n",
       "20200624  92.949997  232.509995  254.179993  2734.399902  ...  289.179993   \n",
       "20200625  95.830002  235.110001  254.360001  2754.580078  ...  296.220001   \n",
       "20200626  94.580002  232.839996  246.479996  2692.870117  ...  286.880005   \n",
       "20200629  95.440002  231.559998  253.800003  2680.379883  ...  289.760010   \n",
       "20200630  96.989998  235.860001  258.540009  2758.820068  ...  294.950012   \n",
       "\n",
       "Ticker           UNP         UPS        USB           V         VZ        WBA  \\\n",
       "Date                                                                            \n",
       "20150706   85.749390   82.283913  37.943161   65.693474  37.562855  75.650414   \n",
       "20150707   87.085892   82.998978  37.830032   65.355919  37.730549  77.298264   \n",
       "20150708   85.401917   81.287910  37.133812   64.352989  37.633602  76.111099   \n",
       "20150709   85.758308   81.509254  37.386200   64.661598  37.375053  79.335915   \n",
       "20150710   87.157173   82.539276  37.803921   65.982765  37.972931  82.489861   \n",
       "...              ...         ...        ...         ...        ...        ...   \n",
       "20200624  165.550003  109.500000  36.440567  191.410004  53.930000  41.169998   \n",
       "20200625  167.020004  110.519997  37.606823  193.979996  54.279999  42.040001   \n",
       "20200626  162.639999  107.320000  35.640003  189.270004  53.160000  41.169998   \n",
       "20200629  165.509995  109.480003  36.349998  191.380005  54.689999  42.320000   \n",
       "20200630  169.070007  111.180000  36.820000  193.169998  55.130001  42.389999   \n",
       "\n",
       "Ticker          WFC         WMT        XOM  \n",
       "Date                                        \n",
       "20150706  47.528847   63.890312  66.836525  \n",
       "20150707  47.368855   65.000229  67.111877  \n",
       "20150708  46.526745   64.357178  66.383011  \n",
       "20150709  46.737270   64.110527  66.083359  \n",
       "20150710  47.225693   64.410027  66.585472  \n",
       "...             ...         ...        ...  \n",
       "20200624  26.120001  120.300003  44.500000  \n",
       "20200625  27.370001  119.709999  45.169998  \n",
       "20200626  25.340000  118.320000  43.619999  \n",
       "20200629  25.700001  119.059998  44.320000  \n",
       "20200630  25.600000  119.779999  44.720001  \n",
       "\n",
       "[1257 rows x 99 columns]"
      ]
     },
     "execution_count": 7,
     "metadata": {},
     "output_type": "execute_result"
    }
   ],
   "source": [
    "stock_prices"
   ]
  },
  {
   "cell_type": "markdown",
   "metadata": {
    "deletable": false,
    "editable": false
   },
   "source": [
    "<div class = \"panel panel-primary\">\n",
    "    <div class = \"panel-heading\"> \n",
    "    <span style=\"color:white\"><b>Task 3</b>\n",
    "    </div>\n",
    "    <div class = \"panel-body\"> \n",
    "    Reorganize the data by creating an 2-d array called <code>stock_prices</code> to store each stock's historical prices, where axis-0 of the array (rows) is each day of the historical period and axis-1 of the array (columns) are the S&P 100 stocks. \n",
    "    <br><br>Confirm that at the end of your code, the shape of <code>stock_prices</code> should be <code>(1257, 99)</code>. \n",
    "    <p style=\"text-align:right;\">[10pts]</p>\n",
    "    </div>\n",
    "</div>"
   ]
  },
  {
   "cell_type": "code",
   "execution_count": 8,
   "metadata": {},
   "outputs": [
    {
     "data": {
      "text/plain": [
       "(1257, 99)"
      ]
     },
     "execution_count": 8,
     "metadata": {},
     "output_type": "execute_result"
    }
   ],
   "source": [
    "stock_prices_arr = stock_prices.values\n",
    "stock_prices_arr.shape"
   ]
  },
  {
   "cell_type": "markdown",
   "metadata": {
    "deletable": false,
    "editable": false
   },
   "source": [
    "<div class = \"panel panel-primary\">\n",
    "    <div class = \"panel-heading\"> \n",
    "    <span style=\"color:white\"><b>Task 4</b>\n",
    "    </div>\n",
    "    <div class = \"panel-body\"> \n",
    "        Using the array <code>stock_prices</code>, calculate the compounding daily returns (expressed as a percentage) and store them in another array called <code>stock_returns</code>. Recall that:\n",
    "    <br><br>\n",
    "    $$r_t = \\ln\\left(\\frac{P_t}{P_{t-1}}\\right) * 100$$\n",
    "    <br>Confirm that after the calculation, the shape of <code>stock_returns</code> should be <code>(1256, 99)</code>. \n",
    "    <p style=\"text-align:right;\">[10pts]</p>\n",
    "    </div>\n",
    "</div>"
   ]
  },
  {
   "cell_type": "code",
   "execution_count": 9,
   "metadata": {},
   "outputs": [
    {
     "data": {
      "text/plain": [
       "(1256, 99)"
      ]
     },
     "execution_count": 9,
     "metadata": {},
     "output_type": "execute_result"
    }
   ],
   "source": [
    "\n",
    "stock_returns = np.log(1. + stock_prices.pct_change()).dropna()\n",
    "stock_returns.shape"
   ]
  },
  {
   "cell_type": "markdown",
   "metadata": {
    "deletable": false,
    "editable": false
   },
   "source": [
    "<div class = \"panel panel-primary\">\n",
    "    <div class = \"panel-heading\"> \n",
    "    <span style=\"color:white\"><b>Task 5</b>\n",
    "    </div>\n",
    "    <div class = \"panel-body\"> \n",
    "    Using <code>stock_returns</code>, calculate the average observed daily returns across the S&P 100 stocks for each day in our historical period. Store this result in another array called <code>daily_returns</code>. Check that the shape of <code>daily_returns</code> is a 1-d array with length 1256.\n",
    "    <br><br>Plot <code>daily_returns</code> in a line plot. Remember to provide a title, axis labels, and adjust the figure size as neccessary. Comment on any noteworthy observations from the plot, and any possible connections to real-world events.\n",
    "    <p style=\"text-align:right;\">[10pts]</p>\n",
    "    </div>\n",
    "</div>"
   ]
  },
  {
   "cell_type": "code",
   "execution_count": 10,
   "metadata": {},
   "outputs": [
    {
     "data": {
      "text/plain": [
       "Date\n",
       "20150707    0.007087\n",
       "20150708   -0.015601\n",
       "20150709    0.002409\n",
       "20150710    0.012164\n",
       "20150713    0.011373\n",
       "              ...   \n",
       "20200624   -0.029244\n",
       "20200625    0.012108\n",
       "20200626   -0.027176\n",
       "20200629    0.017780\n",
       "20200630    0.012888\n",
       "Length: 1256, dtype: float64"
      ]
     },
     "execution_count": 10,
     "metadata": {},
     "output_type": "execute_result"
    }
   ],
   "source": [
    "daily_returns= stock_returns.mean(axis=1)\n",
    "daily_returns"
   ]
  },
  {
   "cell_type": "code",
   "execution_count": 11,
   "metadata": {},
   "outputs": [
    {
     "data": {
      "text/plain": [
       "(1256,)"
      ]
     },
     "execution_count": 11,
     "metadata": {},
     "output_type": "execute_result"
    }
   ],
   "source": [
    "daily_returns.shape\n"
   ]
  },
  {
   "cell_type": "code",
   "execution_count": 12,
   "metadata": {},
   "outputs": [
    {
     "data": {
      "image/png": "[encoded data removed]",
      "text/plain": [
       "<Figure size 432x288 with 1 Axes>"
      ]
     },
     "metadata": {
      "needs_background": "light"
     },
     "output_type": "display_data"
    }
   ],
   "source": [
    "#plt.figure(figsize=(100,50))\n",
    "plt.plot(daily_returns , \"-g\")\n",
    "plt.title('Daily Returns of stocks')\n",
    "plt.legend(['Mean Return'])\n",
    "plt.xlabel('Year')\n",
    "plt.ylabel('% Returns')\n",
    "plt.show()"
   ]
  },
  {
   "cell_type": "code",
   "execution_count": 13,
   "metadata": {},
   "outputs": [],
   "source": [
    "#We can see a wide stock movement in 2020 which can be because of the COVID 19 pandemic world is facing today and its effects on the stock market"
   ]
  },
  {
   "cell_type": "markdown",
   "metadata": {
    "deletable": false,
    "editable": false
   },
   "source": [
    "<div class = \"panel panel-primary\">\n",
    "    <div class = \"panel-heading\"> \n",
    "    <span style=\"color:white\"><b>Task 5</b>\n",
    "    </div>\n",
    "    <div class = \"panel-body\"> \n",
    "    Using <code>stock_returns</code>, calculate the average daily returns over the historical period for the S&P 100 stocks. Store this result in another array called <code>avg_returns</code>. Check that the shape of <code>avg_returns</code> is a 1-d array with length 99.\n",
    "    <br><br>Plot the average returns in <code>avg_returns</code> on a bar plot, sorted by highest to lowest returns. Provide an appropriate title, axis labels, and adjust the figure size for the plot as needed.\n",
    "    <br><br>Which stock experienced the highest average daily returns over the historical period? Which stock had the lowest? Provide some comments on whether those observations make sense and why.\n",
    "    <p style=\"text-align:right;\">[10pts]</p>\n",
    "    </div>\n",
    "</div>\n",
    "<div class = \"alert alert-block alert-info\">\n",
    "    <b>Hint</b>: The matplotlib function <b>plt.barh<b> gives a bar plot oriented horizontally.\n",
    "</div>"
   ]
  },
  {
   "cell_type": "code",
   "execution_count": 14,
   "metadata": {},
   "outputs": [],
   "source": [
    "avg_returns = stock_returns. mean (axis = 0)"
   ]
  },
  {
   "cell_type": "code",
   "execution_count": 15,
   "metadata": {
    "scrolled": false
   },
   "outputs": [
    {
     "data": {
      "text/plain": [
       "Ticker\n",
       "AAPL    0.000911\n",
       "ABBV    0.000470\n",
       "ABT     0.000565\n",
       "ACN     0.000701\n",
       "ADBE    0.001344\n",
       "          ...   \n",
       "VZ      0.000305\n",
       "WBA    -0.000461\n",
       "WFC    -0.000493\n",
       "WMT     0.000500\n",
       "XOM    -0.000320\n",
       "Length: 99, dtype: float64"
      ]
     },
     "execution_count": 15,
     "metadata": {},
     "output_type": "execute_result"
    }
   ],
   "source": [
    "avg_returns"
   ]
  },
  {
   "cell_type": "code",
   "execution_count": 16,
   "metadata": {},
   "outputs": [
    {
     "data": {
      "text/plain": [
       "(99,)"
      ]
     },
     "execution_count": 16,
     "metadata": {},
     "output_type": "execute_result"
    }
   ],
   "source": [
    "avg_returns.shape"
   ]
  },
  {
   "cell_type": "code",
   "execution_count": null,
   "metadata": {},
   "outputs": [],
   "source": []
  },
  {
   "cell_type": "code",
   "execution_count": 17,
   "metadata": {},
   "outputs": [
    {
     "data": {
      "image/png": "[encoded data removed]",
      "text/plain": [
       "<Figure size 432x288 with 1 Axes>"
      ]
     },
     "metadata": {
      "needs_background": "light"
     },
     "output_type": "display_data"
    }
   ],
   "source": [
    "\n",
    "plt.title('Average Return of stocks')\n",
    "plt.legend(['Average Return'])\n",
    "plt.xlabel('Time')\n",
    "plt.ylabel('% Returns')\n",
    "#plt.figure(figsize=(100,50))\n",
    "plt.bar(range(99),avg_returns.sort_values(),color = \"green\")\n",
    "plt.show()"
   ]
  },
  {
   "cell_type": "code",
   "execution_count": null,
   "metadata": {},
   "outputs": [],
   "source": []
  },
  {
   "cell_type": "code",
   "execution_count": 18,
   "metadata": {},
   "outputs": [
    {
     "name": "stdout",
     "output_type": "stream",
     "text": [
      "NVDA\n"
     ]
    },
    {
     "name": "stderr",
     "output_type": "stream",
     "text": [
      "/opt/anaconda3/lib/python3.7/site-packages/numpy/core/fromnumeric.py:61: FutureWarning: \n",
      "The current behaviour of 'Series.argmax' is deprecated, use 'idxmax'\n",
      "instead.\n",
      "The behavior of 'argmax' will be corrected to return the positional\n",
      "maximum in the future. For now, use 'series.values.argmax' or\n",
      "'np.argmax(np.array(values))' to get the position of the maximum\n",
      "row.\n",
      "  return bound(*args, **kwds)\n"
     ]
    },
    {
     "data": {
      "text/plain": [
       "Ticker\n",
       "NVDA    0.002361\n",
       "dtype: float64"
      ]
     },
     "execution_count": 18,
     "metadata": {},
     "output_type": "execute_result"
    }
   ],
   "source": [
    "print(np.argmax(avg_returns))\n",
    "avg_returns.iloc[[71]]\n"
   ]
  },
  {
   "cell_type": "markdown",
   "metadata": {},
   "source": [
    "Nvda is a super high tech chip firm so i see why they had a blast in the past including the mest up, tech has been a huge part of the recent tock buuble."
   ]
  },
  {
   "cell_type": "code",
   "execution_count": null,
   "metadata": {},
   "outputs": [],
   "source": []
  },
  {
   "cell_type": "code",
   "execution_count": 19,
   "metadata": {},
   "outputs": [
    {
     "name": "stdout",
     "output_type": "stream",
     "text": [
      "SLB\n"
     ]
    },
    {
     "name": "stderr",
     "output_type": "stream",
     "text": [
      "/opt/anaconda3/lib/python3.7/site-packages/numpy/core/fromnumeric.py:61: FutureWarning: \n",
      "The current behaviour of 'Series.argmin' is deprecated, use 'idxmin'\n",
      "instead.\n",
      "The behavior of 'argmin' will be corrected to return the positional\n",
      "minimum in the future. For now, use 'series.values.argmin' or\n",
      "'np.argmin(np.array(values))' to get the position of the minimum\n",
      "row.\n",
      "  return bound(*args, **kwds)\n"
     ]
    },
    {
     "data": {
      "text/plain": [
       "Ticker\n",
       "SLB   -0.001058\n",
       "dtype: float64"
      ]
     },
     "execution_count": 19,
     "metadata": {},
     "output_type": "execute_result"
    }
   ],
   "source": [
    "print(np.argmin(avg_returns))\n",
    "avg_returns.iloc[[82]]"
   ]
  },
  {
   "cell_type": "markdown",
   "metadata": {},
   "source": [
    "This is an office space company i dent know much about them but it seems very basic and very stable."
   ]
  },
  {
   "cell_type": "markdown",
   "metadata": {
    "deletable": false,
    "editable": false
   },
   "source": [
    "<div class = \"panel panel-primary\">\n",
    "    <div class = \"panel-heading\"> \n",
    "    <span style=\"color:white\"><b>Task 7</b>\n",
    "    </div>\n",
    "    <div class = \"panel-body\"> \n",
    "    Using stock_returns, calculate the standard deviation of daily returns over the historical period for the S&P 100 stocks. Store this result in another array called <code>std_returns</code>. Check that the shape of <code>std_returns</code> is a 1-d array with length 99.\n",
    "    <br><br>Which stock experienced the highest volatility over the historical period? Which stock had the lowest? Provide some comments on whether those observations make sense and why.\n",
    "    <p style=\"text-align:right;\">[5pts]</p>\n",
    "    </div>\n",
    "</div>"
   ]
  },
  {
   "cell_type": "code",
   "execution_count": 20,
   "metadata": {},
   "outputs": [
    {
     "data": {
      "text/plain": [
       "(99,)"
      ]
     },
     "execution_count": 20,
     "metadata": {},
     "output_type": "execute_result"
    }
   ],
   "source": [
    "std_returns = np.std(stock_returns)\n",
    "std_returns.shape"
   ]
  },
  {
   "cell_type": "code",
   "execution_count": 21,
   "metadata": {},
   "outputs": [
    {
     "name": "stdout",
     "output_type": "stream",
     "text": [
      "VZ\n"
     ]
    }
   ],
   "source": [
    "print(np.argmin(std_returns))\n"
   ]
  },
  {
   "cell_type": "markdown",
   "metadata": {},
   "source": [
    "I assume they had a really solid return and with stability becasue its a solid company that probably dosnt have alot of volatitiy. i imagine the lack of hige swings in prices is good for them."
   ]
  },
  {
   "cell_type": "code",
   "execution_count": 22,
   "metadata": {},
   "outputs": [
    {
     "data": {
      "text/plain": [
       "Ticker\n",
       "VZ    0.012234\n",
       "dtype: float64"
      ]
     },
     "execution_count": 22,
     "metadata": {},
     "output_type": "execute_result"
    }
   ],
   "source": [
    "std_returns.iloc[[94]]"
   ]
  },
  {
   "cell_type": "code",
   "execution_count": 23,
   "metadata": {},
   "outputs": [
    {
     "name": "stdout",
     "output_type": "stream",
     "text": [
      "OXY\n"
     ]
    }
   ],
   "source": [
    "print(np.argmax(std_returns))\n"
   ]
  },
  {
   "cell_type": "code",
   "execution_count": 24,
   "metadata": {},
   "outputs": [
    {
     "data": {
      "text/plain": [
       "Ticker\n",
       "OXY    0.033884\n",
       "dtype: float64"
      ]
     },
     "execution_count": 24,
     "metadata": {},
     "output_type": "execute_result"
    }
   ],
   "source": [
    "std_returns.iloc[[73]]"
   ]
  },
  {
   "cell_type": "markdown",
   "metadata": {
    "deletable": false,
    "editable": false
   },
   "source": [
    "<div class = \"panel panel-primary\">\n",
    "    <div class = \"panel-heading\"> \n",
    "    <span style=\"color:white\"><b>Task 8</b>\n",
    "    </div>\n",
    "    <div class = \"panel-body\"> \n",
    "    Plot a scatter plot of the standard deviation of returns on the horizontal axis (X) and the average returns on the vertical axis (Y). Provide the plot with a title and axis labels.\n",
    "    <br><br>What can we conclude from the plot? Are there any noteworthy patterns or observations?\n",
    "    <p style=\"text-align:right;\">[5pts]</p>\n",
    "    </div>\n",
    "</div>"
   ]
  },
  {
   "cell_type": "code",
   "execution_count": 25,
   "metadata": {},
   "outputs": [
    {
     "data": {
      "image/png": "[encoded data removed]",
      "text/plain": [
       "<Figure size 432x288 with 1 Axes>"
      ]
     },
     "metadata": {
      "needs_background": "light"
     },
     "output_type": "display_data"
    },
    {
     "data": {
      "text/plain": [
       "<Figure size 7200x3600 with 0 Axes>"
      ]
     },
     "metadata": {},
     "output_type": "display_data"
    }
   ],
   "source": [
    "plt.plot(std_returns, avg_returns, 'x', color='green')\n",
    "plt.title('Scatter Plot')\n",
    "plt.xlabel('Standard Deviation')\n",
    "plt.ylabel('Average Returns')\n",
    "plt.figure(figsize=(100,50))\n",
    "plt.show()"
   ]
  },
  {
   "cell_type": "markdown",
   "metadata": {
    "deletable": false,
    "editable": false
   },
   "source": [
    "<div class = \"panel panel-primary\">\n",
    "    <div class = \"panel-heading\"> \n",
    "    <span style=\"color:white\"><b>Task 9</b>\n",
    "    </div>\n",
    "    <div class = \"panel-body\"> \n",
    "    Use the arrays <code>avg_returns</code> and <code>std_returns</code> to calculate the historical sharpe ratio over the historical period. Assume an annual risk-free rate of 1%. Store this result in another array called <code>sharpe_ratio</code>.\n",
    "    <p style=\"text-align:right;\">[5pts]</p>\n",
    "    </div>\n",
    "</div>"
   ]
  },
  {
   "cell_type": "code",
   "execution_count": 26,
   "metadata": {
    "scrolled": true
   },
   "outputs": [
    {
     "data": {
      "text/plain": [
       "(99,)"
      ]
     },
     "execution_count": 26,
     "metadata": {},
     "output_type": "execute_result"
    }
   ],
   "source": [
    "avg_returns.shape"
   ]
  },
  {
   "cell_type": "code",
   "execution_count": 27,
   "metadata": {},
   "outputs": [
    {
     "data": {
      "text/plain": [
       "(99,)"
      ]
     },
     "execution_count": 27,
     "metadata": {},
     "output_type": "execute_result"
    }
   ],
   "source": [
    "std_returns.shape"
   ]
  },
  {
   "cell_type": "code",
   "execution_count": 28,
   "metadata": {},
   "outputs": [
    {
     "data": {
      "text/plain": [
       "(99,)"
      ]
     },
     "execution_count": 28,
     "metadata": {},
     "output_type": "execute_result"
    }
   ],
   "source": [
    "sharpe_ratio = (avg_returns-.01)/std_returns\n",
    "sharpe_ratio.shape"
   ]
  },
  {
   "cell_type": "markdown",
   "metadata": {
    "deletable": false,
    "editable": false
   },
   "source": [
    "<div class = \"panel panel-primary\">\n",
    "    <div class = \"panel-heading\"> \n",
    "    <span style=\"color:white\"><b>Task 10</b>\n",
    "    </div>\n",
    "    <div class = \"panel-body\"> \n",
    "    Calculate the correlation matrix for daily returns of the S&P 100 component stocks in <code>stock_returns</code>. Verify that the shape of the calculated matrix is <code>(99, 99)</code>. \n",
    "    <br><br>Store the correlation matrix in a dataframe called <code>corr_returns</code>, and set the stock tickers as both the index and columns of the dataframe. \n",
    "    <p style=\"text-align:right;\">[10pts]</p>\n",
    "    </div>\n",
    "</div>"
   ]
  },
  {
   "cell_type": "code",
   "execution_count": 29,
   "metadata": {},
   "outputs": [],
   "source": [
    "corr_returns = stock_returns.corr()"
   ]
  },
  {
   "cell_type": "code",
   "execution_count": 30,
   "metadata": {},
   "outputs": [
    {
     "data": {
      "text/plain": [
       "(99, 99)"
      ]
     },
     "execution_count": 30,
     "metadata": {},
     "output_type": "execute_result"
    }
   ],
   "source": [
    "corr_returns.shape"
   ]
  },
  {
   "cell_type": "code",
   "execution_count": null,
   "metadata": {},
   "outputs": [],
   "source": []
  },
  {
   "cell_type": "markdown",
   "metadata": {
    "deletable": false,
    "editable": false
   },
   "source": [
    "<div class = \"panel panel-primary\">\n",
    "    <div class = \"panel-heading\"> \n",
    "    <span style=\"color:white\"><b>Task 11</b>\n",
    "    </div>\n",
    "    <div class = \"panel-body\"> \n",
    "    A heatmap is a graphical representation of data that uses a system of color-coding to represent the relative magnitude of a set of data. We can create heatmaps using another external library called <b>seaborn</b>, and using the code snippet below\n",
    "    <br>\n",
    "    <code>\n",
    "    import seaborn as sns\n",
    "    sns.heatmap(corr_returns)\n",
    "    plt.show()\n",
    "    </code>\n",
    "    <br>Plot the heatmap for <code>corr_returns</code>. Rremember to provide a title to the plot and adjust the figure size as neccessary.\n",
    "    <p style=\"text-align:right;\">[5pts]</p>\n",
    "    </div>\n",
    "</div>"
   ]
  },
  {
   "cell_type": "code",
   "execution_count": 31,
   "metadata": {
    "scrolled": false
   },
   "outputs": [
    {
     "data": {
      "image/png": "[encoded data removed]",
      "text/plain": [
       "<Figure size 432x288 with 2 Axes>"
      ]
     },
     "metadata": {
      "needs_background": "light"
     },
     "output_type": "display_data"
    }
   ],
   "source": [
    "import seaborn as sns\n",
    "sns.heatmap(corr_returns)\n",
    "sns.color_palette(\"Set2\")\n",
    "plt.show()"
   ]
  },
  {
   "cell_type": "markdown",
   "metadata": {
    "deletable": false,
    "editable": false
   },
   "source": [
    "<div class = \"panel panel-primary\">\n",
    "    <div class = \"panel-heading\"> \n",
    "    <span style=\"color:white\"><b>Task 12</b>\n",
    "    </div>\n",
    "    <div class = \"panel-body\"> \n",
    "    From the correlation matrix <code>corr_returns</code>, identify the pair of stocks that are <i>most</i> positively correlated and the pair that are <i>most</i> uncorrelated. \n",
    "    <br><br>Comment on whether it is reasonable for the identified pairs of stocks to be positively correlated or uncorrelated, and propose a reason as to why for each of the two pairs of stocks.\n",
    "    <p style=\"text-align:right;\">[15pts]</p>\n",
    "    </div>\n",
    "</div>"
   ]
  },
  {
   "cell_type": "code",
   "execution_count": 32,
   "metadata": {},
   "outputs": [
    {
     "name": "stdout",
     "output_type": "stream",
     "text": [
      "0.9287737769548196\n",
      "0.10660500968647431\n"
     ]
    }
   ],
   "source": [
    "unstacked = corr_returns.unstack()\n",
    "highpairs=unstacked.sort_values()\n",
    " \n",
    "    \n",
    "highestcorr = highpairs[-100]\n",
    "lowestcorr = highpairs[0]\n",
    "\n",
    "print(highestcorr)\n",
    "print(lowestcorr)\n"
   ]
  },
  {
   "cell_type": "markdown",
   "metadata": {},
   "source": [
    "We know the lowest correlatin is between netflix and dunkin i colud not figrue out the highest pair."
   ]
  },
  {
   "cell_type": "code",
   "execution_count": null,
   "metadata": {},
   "outputs": [],
   "source": []
  },
  {
   "cell_type": "code",
   "execution_count": null,
   "metadata": {},
   "outputs": [],
   "source": []
  },
  {
   "cell_type": "code",
   "execution_count": null,
   "metadata": {},
   "outputs": [],
   "source": []
  }
 ],
 "metadata": {
  "kernelspec": {
   "display_name": "Python 3",
   "language": "python",
   "name": "python3"
  },
  "language_info": {
   "codemirror_mode": {
    "name": "ipython",
    "version": 3
   },
   "file_extension": ".py",
   "mimetype": "text/x-python",
   "name": "python",
   "nbconvert_exporter": "python",
   "pygments_lexer": "ipython3",
   "version": "3.7.4"
  }
 },
 "nbformat": 4,
 "nbformat_minor": 2
}
